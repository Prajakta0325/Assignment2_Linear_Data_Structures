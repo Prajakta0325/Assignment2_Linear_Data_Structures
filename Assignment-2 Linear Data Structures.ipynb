{
 "cells": [
  {
   "cell_type": "markdown",
   "id": "4bdd7808",
   "metadata": {},
   "source": [
    "# Q1. Delete the elements in an linked list whose sum is equal to zero"
   ]
  },
  {
   "cell_type": "code",
   "execution_count": 3,
   "id": "de8bd749",
   "metadata": {},
   "outputs": [
    {
     "name": "stdout",
     "output_type": "stream",
     "text": [
      "Original Linked List:\n",
      "3 -> 2 -> -1 -> 1 -> -2 -> 4 -> None\n",
      "Modified Linked List:\n",
      "3 -> 4 -> None\n"
     ]
    }
   ],
   "source": [
    "class Node:\n",
    "    def __init__(self, data=None):\n",
    "        self.data = data\n",
    "        self.next = None\n",
    "\n",
    "\n",
    "def delete_zero_sum_nodes(head):\n",
    "    if not head:\n",
    "        return head\n",
    "\n",
    "    dummy = Node(0)\n",
    "    dummy.next = head\n",
    "    current = dummy\n",
    "\n",
    "    running_sum = 0\n",
    "    sum_dict = {}\n",
    "\n",
    "    while current:\n",
    "        running_sum += current.data\n",
    "        if running_sum in sum_dict:\n",
    "            prev = sum_dict[running_sum]\n",
    "            prev.next = current.next\n",
    "        else:\n",
    "            sum_dict[running_sum] = current\n",
    "        current = current.next\n",
    "\n",
    "    return dummy.next\n",
    "\n",
    "head = Node(3)\n",
    "head.next = Node(2)\n",
    "head.next.next = Node(-1)\n",
    "head.next.next.next = Node(1)\n",
    "head.next.next.next.next = Node(-2)\n",
    "head.next.next.next.next.next = Node(4)\n",
    "\n",
    "print(\"Original Linked List:\")\n",
    "current = head\n",
    "while current:\n",
    "    print(current.data, end=\" -> \")\n",
    "    current = current.next\n",
    "print(\"None\")\n",
    "\n",
    "head = delete_zero_sum_nodes(head)\n",
    "\n",
    "print(\"Modified Linked List:\")\n",
    "current = head\n",
    "while current:\n",
    "    print(current.data, end=\" -> \")\n",
    "    current = current.next\n",
    "print(\"None\")"
   ]
  },
  {
   "cell_type": "markdown",
   "id": "98936ae8",
   "metadata": {},
   "source": [
    "# Q2- Reverse a linked list in groups of given size"
   ]
  },
  {
   "cell_type": "code",
   "execution_count": 4,
   "id": "7206baf3",
   "metadata": {},
   "outputs": [
    {
     "name": "stdout",
     "output_type": "stream",
     "text": [
      "Original Linked List:\n",
      "1 -> 2 -> 3 -> 4 -> 5 -> 6 -> 7 -> 8 -> None\n",
      "Modified Linked List:\n",
      "3 -> 2 -> 1 -> 6 -> 5 -> 4 -> 8 -> 7 -> None\n"
     ]
    }
   ],
   "source": [
    "class Node:\n",
    "    def __init__(self, data=None):\n",
    "        self.data = data\n",
    "        self.next = None\n",
    "\n",
    "\n",
    "def reverse_in_groups(head, k):\n",
    "    if not head or k <= 1:\n",
    "        return head\n",
    "\n",
    "    current = head\n",
    "    prev = None\n",
    "    count = 0\n",
    "\n",
    "    while current and count < k:\n",
    "        next_node = current.next\n",
    "        current.next = prev\n",
    "        prev = current\n",
    "        current = next_node\n",
    "        count += 1\n",
    "    if current:\n",
    "        head.next = reverse_in_groups(current, k)\n",
    "\n",
    "    return prev\n",
    "\n",
    "\n",
    "def print_linked_list(head):\n",
    "    current = head\n",
    "    while current:\n",
    "        print(current.data, end=\" -> \")\n",
    "        current = current.next\n",
    "    print(\"None\")\n",
    "\n",
    "head = Node(1)\n",
    "head.next = Node(2)\n",
    "head.next.next = Node(3)\n",
    "head.next.next.next = Node(4)\n",
    "head.next.next.next.next = Node(5)\n",
    "head.next.next.next.next.next = Node(6)\n",
    "head.next.next.next.next.next.next = Node(7)\n",
    "head.next.next.next.next.next.next.next = Node(8)\n",
    "\n",
    "print(\"Original Linked List:\")\n",
    "print_linked_list(head)\n",
    "\n",
    "k = 3  \n",
    "\n",
    "head = reverse_in_groups(head, k)\n",
    "\n",
    "print(\"Modified Linked List:\")\n",
    "print_linked_list(head)"
   ]
  },
  {
   "cell_type": "markdown",
   "id": "976e38bf",
   "metadata": {},
   "source": [
    "# Q3. Merge a linked list into another linked list at alternate positions"
   ]
  },
  {
   "cell_type": "code",
   "execution_count": 6,
   "id": "d91fa3e9",
   "metadata": {},
   "outputs": [
    {
     "name": "stdout",
     "output_type": "stream",
     "text": [
      "First Linked List:\n",
      "1 -> 2 -> 3 -> None\n",
      "Second Linked List:\n",
      "4 -> 5 -> 6 -> None\n",
      "Merged Linked List:\n",
      "1 -> 4 -> 2 -> 5 -> 3 -> 6 -> None\n"
     ]
    }
   ],
   "source": [
    "class Node:\n",
    "    def __init__(self, data=None):\n",
    "        self.data = data\n",
    "        self.next = None\n",
    "\n",
    "\n",
    "def merge_alternate(head1, head2):\n",
    "    if not head1:\n",
    "        return head2\n",
    "    if not head2:\n",
    "        return head1\n",
    "\n",
    "    current1 = head1\n",
    "    current2 = head2\n",
    "    while current1 and current2:\n",
    "        next1 = current1.next\n",
    "        next2 = current2.next\n",
    "\n",
    "        current2.next = next1\n",
    "        current1.next = current2\n",
    "\n",
    "        current1 = next1\n",
    "        current2 = next2\n",
    "\n",
    "    return head1\n",
    "\n",
    "\n",
    "def print_linked_list(head):\n",
    "    current = head\n",
    "    while current:\n",
    "        print(current.data, end=\" -> \")\n",
    "        current = current.next\n",
    "    print(\"None\")\n",
    "\n",
    "\n",
    "head1 = Node(1)\n",
    "head1.next = Node(2)\n",
    "head1.next.next = Node(3)\n",
    "\n",
    "head2 = Node(4)\n",
    "head2.next = Node(5)\n",
    "head2.next.next = Node(6)\n",
    "\n",
    "print(\"First Linked List:\")\n",
    "print_linked_list(head1)\n",
    "\n",
    "print(\"Second Linked List:\")\n",
    "print_linked_list(head2)\n",
    "\n",
    "head1 = merge_alternate(head1, head2)\n",
    "\n",
    "print(\"Merged Linked List:\")\n",
    "print_linked_list(head1)"
   ]
  },
  {
   "cell_type": "markdown",
   "id": "8d8399de",
   "metadata": {},
   "source": [
    "# Q4- In an array, Count Pairs with given sum"
   ]
  },
  {
   "cell_type": "code",
   "execution_count": 7,
   "id": "4f4ebc41",
   "metadata": {},
   "outputs": [
    {
     "name": "stdout",
     "output_type": "stream",
     "text": [
      "Number of pairs with sum 6: 3\n"
     ]
    }
   ],
   "source": [
    "def count_pairs_with_sum(arr, target_sum):\n",
    "    count = 0\n",
    "    num_dict = {}\n",
    "\n",
    "    for num in arr:\n",
    "        complement = target_sum - num\n",
    "\n",
    "        if complement in num_dict:\n",
    "            count += num_dict[complement]\n",
    "\n",
    "        if num in num_dict:\n",
    "            num_dict[num] += 1\n",
    "        else:\n",
    "            num_dict[num] = 1\n",
    "\n",
    "    return count\n",
    "\n",
    "arr = [1, 5, 7, -1, 5]\n",
    "target_sum = 6\n",
    "\n",
    "pair_count = count_pairs_with_sum(arr, target_sum)\n",
    "print(f\"Number of pairs with sum {target_sum}: {pair_count}\")"
   ]
  },
  {
   "cell_type": "markdown",
   "id": "9b43c17a",
   "metadata": {},
   "source": [
    "# Q5- Find duplicates in an array"
   ]
  },
  {
   "cell_type": "code",
   "execution_count": 8,
   "id": "60846913",
   "metadata": {},
   "outputs": [
    {
     "name": "stdout",
     "output_type": "stream",
     "text": [
      "Duplicate numbers: [2, 3]\n"
     ]
    }
   ],
   "source": [
    "def find_duplicates(arr):\n",
    "    duplicates = []\n",
    "    num_dict = {}\n",
    "\n",
    "    for num in arr:\n",
    "        if num in num_dict:\n",
    "            duplicates.append(num)\n",
    "        else:\n",
    "            num_dict[num] = 1\n",
    "\n",
    "    return duplicates\n",
    "\n",
    "arr = [1, 2, 3, 2, 4, 5, 3, 6]\n",
    "duplicate_nums = find_duplicates(arr)\n",
    "print(\"Duplicate numbers:\", duplicate_nums)"
   ]
  },
  {
   "cell_type": "markdown",
   "id": "381e5789",
   "metadata": {},
   "source": [
    "# Q6 - Find the Kth largest and Kth smallest number in an array"
   ]
  },
  {
   "cell_type": "code",
   "execution_count": 9,
   "id": "ca962d29",
   "metadata": {},
   "outputs": [
    {
     "name": "stdout",
     "output_type": "stream",
     "text": [
      "Kth largest number: 7\n",
      "Kth smallest number: 3\n"
     ]
    }
   ],
   "source": [
    "def find_kth_largest_smallest(arr, k):\n",
    "    sorted_arr = sorted(arr)\n",
    "    kth_largest = sorted_arr[-k]\n",
    "    kth_smallest = sorted_arr[k-1]\n",
    "    return kth_largest, kth_smallest\n",
    "\n",
    "arr = [9, 4, 7, 1, 5, 2, 8, 3, 6]\n",
    "k = 3\n",
    "\n",
    "kth_largest, kth_smallest = find_kth_largest_smallest(arr, k)\n",
    "print(f\"Kth largest number: {kth_largest}\")\n",
    "print(f\"Kth smallest number: {kth_smallest}\")"
   ]
  },
  {
   "cell_type": "markdown",
   "id": "20f3ae07",
   "metadata": {},
   "source": [
    "# Q7- Move all the negative elements to one side of the array"
   ]
  },
  {
   "cell_type": "code",
   "execution_count": 11,
   "id": "c937ba78",
   "metadata": {},
   "outputs": [
    {
     "name": "stdout",
     "output_type": "stream",
     "text": [
      "Array with negative elements moved to one side: [-3, -5, -1, -2, -7, 0, 4, 6, 2]\n"
     ]
    }
   ],
   "source": [
    "def move_negative_elements(arr):\n",
    "    n = len(arr)\n",
    "    neg_idx = 0\n",
    "\n",
    "    for i in range(n):\n",
    "        if arr[i] < 0:\n",
    "            arr[i], arr[neg_idx] = arr[neg_idx], arr[i]\n",
    "            neg_idx += 1\n",
    "\n",
    "    return arr\n",
    "\n",
    "arr = [4, -3, 2, -5, -1, 0, -2, 6, -7]\n",
    "result = move_negative_elements(arr)\n",
    "print(\"Array with negative elements moved to one side:\", result)"
   ]
  },
  {
   "cell_type": "markdown",
   "id": "7ea60c06",
   "metadata": {},
   "source": [
    "# Q8- Reverse a string using a stack data structure"
   ]
  },
  {
   "cell_type": "code",
   "execution_count": 10,
   "id": "895ece6c",
   "metadata": {},
   "outputs": [
    {
     "name": "stdout",
     "output_type": "stream",
     "text": [
      "Reversed string: !dlroW ,olleH\n"
     ]
    }
   ],
   "source": [
    "class Stack:\n",
    "    def __init__(self):\n",
    "        self.stack = []\n",
    "\n",
    "    def push(self, item):\n",
    "        self.stack.append(item)\n",
    "\n",
    "    def pop(self):\n",
    "        if not self.is_empty():\n",
    "            return self.stack.pop()\n",
    "        return None\n",
    "\n",
    "    def is_empty(self):\n",
    "        return len(self.stack) == 0\n",
    "\n",
    "\n",
    "def reverse_string(input_string):\n",
    "    stack = Stack()\n",
    "    reversed_string = \"\"\n",
    "\n",
    "    for char in input_string:\n",
    "        stack.push(char)\n",
    "    while not stack.is_empty():\n",
    "        reversed_string += stack.pop()\n",
    "\n",
    "    return reversed_string\n",
    "\n",
    "input_str = \"Hello, World!\"\n",
    "reversed_str = reverse_string(input_str)\n",
    "print(\"Reversed string:\", reversed_str)"
   ]
  },
  {
   "cell_type": "markdown",
   "id": "6c1bf08f",
   "metadata": {},
   "source": [
    "# Q10- Implement a queue using the stack data structure"
   ]
  },
  {
   "cell_type": "code",
   "execution_count": 12,
   "id": "eb478a47",
   "metadata": {},
   "outputs": [
    {
     "name": "stdout",
     "output_type": "stream",
     "text": [
      "1\n",
      "2\n",
      "3\n",
      "4\n",
      "5\n",
      "True\n"
     ]
    }
   ],
   "source": [
    "class Queue:\n",
    "    def __init__(self):\n",
    "        self.enqueue_stack = []\n",
    "        self.dequeue_stack = []\n",
    "\n",
    "    def enqueue(self, item):\n",
    "        self.enqueue_stack.append(item)\n",
    "\n",
    "    def dequeue(self):\n",
    "        if not self.dequeue_stack:\n",
    "            if not self.enqueue_stack:\n",
    "                raise IndexError(\"Queue is empty\")\n",
    "                \n",
    "            while self.enqueue_stack:\n",
    "                self.dequeue_stack.append(self.enqueue_stack.pop())\n",
    "        return self.dequeue_stack.pop()\n",
    "\n",
    "    def is_empty(self):\n",
    "        return not self.enqueue_stack and not self.dequeue_stack\n",
    "\n",
    "queue = Queue()\n",
    "\n",
    "queue.enqueue(1)\n",
    "queue.enqueue(2)\n",
    "queue.enqueue(3)\n",
    "\n",
    "print(queue.dequeue())  \n",
    "print(queue.dequeue())  \n",
    "\n",
    "queue.enqueue(4)\n",
    "queue.enqueue(5)\n",
    "\n",
    "print(queue.dequeue())  \n",
    "print(queue.dequeue())  \n",
    "print(queue.dequeue())  \n",
    "\n",
    "print(queue.is_empty()) "
   ]
  },
  {
   "cell_type": "code",
   "execution_count": null,
   "id": "6a7556e5",
   "metadata": {},
   "outputs": [],
   "source": []
  }
 ],
 "metadata": {
  "kernelspec": {
   "display_name": "Python 3 (ipykernel)",
   "language": "python",
   "name": "python3"
  },
  "language_info": {
   "codemirror_mode": {
    "name": "ipython",
    "version": 3
   },
   "file_extension": ".py",
   "mimetype": "text/x-python",
   "name": "python",
   "nbconvert_exporter": "python",
   "pygments_lexer": "ipython3",
   "version": "3.9.13"
  }
 },
 "nbformat": 4,
 "nbformat_minor": 5
}
